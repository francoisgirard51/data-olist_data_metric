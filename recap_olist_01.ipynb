{
 "cells": [
  {
   "cell_type": "code",
   "execution_count": 1,
   "metadata": {},
   "outputs": [],
   "source": [
    "%load_ext autoreload\n",
    "%autoreload 2\n",
    "import os\n",
    "import pandas as pd\n",
    "import matplotlib.pyplot as plt"
   ]
  },
  {
   "cell_type": "markdown",
   "metadata": {},
   "source": [
    "# Code `get_data()`"
   ]
  },
  {
   "cell_type": "markdown",
   "metadata": {},
   "source": [
    "## Create _draft code_ in the notebook"
   ]
  },
  {
   "cell_type": "code",
   "execution_count": 2,
   "metadata": {},
   "outputs": [
    {
     "data": {
      "text/plain": [
       "'/Users/francoisgirard/code/francoisgirard51/04-Decision-Science/01-Project-Setup/data-olist_data_metric'"
      ]
     },
     "execution_count": 2,
     "metadata": {},
     "output_type": "execute_result"
    }
   ],
   "source": [
    "# Where am I?\n",
    "os.getcwd()"
   ]
  },
  {
   "cell_type": "code",
   "execution_count": 3,
   "metadata": {},
   "outputs": [
    {
     "data": {
      "text/plain": [
       "'../data-context-and-setup/data/csv'"
      ]
     },
     "execution_count": 3,
     "metadata": {},
     "output_type": "execute_result"
    }
   ],
   "source": [
    "import os\n",
    "import pandas as pd\n",
    "\n",
    "# Build relative path to csv folder \n",
    "csv_path = '/home/vincent/code/vtmoreau/04-Decision-Sicence/01-Project-Setup/data-context-and-setup/data/csv' # Bad practice!\n",
    "csv_path = '../data-context-and-setup/data/csv' # Mac OS / Ubuntu only\n",
    "csv_path = '..\\\\data-context-and-setup\\\\data\\\\csv' # Windows only\n",
    "csv_path = os.path.join('..', 'data-context-and-setup','data','csv') # Robust to Linux/OS/Windows variations\n",
    "\n",
    "csv_path"
   ]
  },
  {
   "cell_type": "code",
   "execution_count": 4,
   "metadata": {},
   "outputs": [
    {
     "data": {
      "text/plain": [
       "['olist_sellers_dataset.csv',\n",
       " 'product_category_name_translation.csv',\n",
       " 'olist_orders_dataset.csv',\n",
       " 'olist_order_items_dataset.csv',\n",
       " 'olist_customers_dataset.csv',\n",
       " 'olist_geolocation_dataset.csv',\n",
       " 'olist_order_payments_dataset.csv',\n",
       " 'olist_order_reviews_dataset.csv',\n",
       " 'olist_products_dataset.csv']"
      ]
     },
     "execution_count": 4,
     "metadata": {},
     "output_type": "execute_result"
    }
   ],
   "source": [
    "file_names = [f for f in os.listdir(csv_path) if f.endswith('.csv')]\n",
    "file_names"
   ]
  },
  {
   "cell_type": "code",
   "execution_count": 5,
   "metadata": {},
   "outputs": [
    {
     "data": {
      "text/plain": [
       "['sellers',\n",
       " 'product_category_name_translation',\n",
       " 'orders',\n",
       " 'order_items',\n",
       " 'customers',\n",
       " 'geolocation',\n",
       " 'order_payments',\n",
       " 'order_reviews',\n",
       " 'products']"
      ]
     },
     "execution_count": 5,
     "metadata": {},
     "output_type": "execute_result"
    }
   ],
   "source": [
    "#.strip() or .replace()\n",
    "key_names = [key_name\n",
    "    .replace('olist_','')\n",
    "    .replace('_dataset','')\n",
    "    .replace('.csv','')\n",
    "    for key_name in file_names]\n",
    "key_names"
   ]
  },
  {
   "cell_type": "code",
   "execution_count": 6,
   "metadata": {},
   "outputs": [
    {
     "data": {
      "text/plain": [
       "[('a', 1), ('b', 2), ('c', 3)]"
      ]
     },
     "execution_count": 6,
     "metadata": {},
     "output_type": "execute_result"
    }
   ],
   "source": [
    "# How to iterate over two list simulatenously ? \n",
    "# Let's discover how zip works :\n",
    "\n",
    "l1 = ['a','b','c']\n",
    "l2 = [1,2,3]\n",
    "list(zip(l1,l2))"
   ]
  },
  {
   "cell_type": "code",
   "execution_count": 7,
   "metadata": {},
   "outputs": [
    {
     "data": {
      "text/html": [
       "<div>\n",
       "<style scoped>\n",
       "    .dataframe tbody tr th:only-of-type {\n",
       "        vertical-align: middle;\n",
       "    }\n",
       "\n",
       "    .dataframe tbody tr th {\n",
       "        vertical-align: top;\n",
       "    }\n",
       "\n",
       "    .dataframe thead th {\n",
       "        text-align: right;\n",
       "    }\n",
       "</style>\n",
       "<table border=\"1\" class=\"dataframe\">\n",
       "  <thead>\n",
       "    <tr style=\"text-align: right;\">\n",
       "      <th></th>\n",
       "      <th>order_id</th>\n",
       "      <th>customer_id</th>\n",
       "      <th>order_status</th>\n",
       "      <th>order_purchase_timestamp</th>\n",
       "      <th>order_approved_at</th>\n",
       "      <th>order_delivered_carrier_date</th>\n",
       "      <th>order_delivered_customer_date</th>\n",
       "      <th>order_estimated_delivery_date</th>\n",
       "    </tr>\n",
       "  </thead>\n",
       "  <tbody>\n",
       "    <tr>\n",
       "      <th>0</th>\n",
       "      <td>e481f51cbdc54678b7cc49136f2d6af7</td>\n",
       "      <td>9ef432eb6251297304e76186b10a928d</td>\n",
       "      <td>delivered</td>\n",
       "      <td>2017-10-02 10:56:33</td>\n",
       "      <td>2017-10-02 11:07:15</td>\n",
       "      <td>2017-10-04 19:55:00</td>\n",
       "      <td>2017-10-10 21:25:13</td>\n",
       "      <td>2017-10-18 00:00:00</td>\n",
       "    </tr>\n",
       "    <tr>\n",
       "      <th>1</th>\n",
       "      <td>53cdb2fc8bc7dce0b6741e2150273451</td>\n",
       "      <td>b0830fb4747a6c6d20dea0b8c802d7ef</td>\n",
       "      <td>delivered</td>\n",
       "      <td>2018-07-24 20:41:37</td>\n",
       "      <td>2018-07-26 03:24:27</td>\n",
       "      <td>2018-07-26 14:31:00</td>\n",
       "      <td>2018-08-07 15:27:45</td>\n",
       "      <td>2018-08-13 00:00:00</td>\n",
       "    </tr>\n",
       "    <tr>\n",
       "      <th>2</th>\n",
       "      <td>47770eb9100c2d0c44946d9cf07ec65d</td>\n",
       "      <td>41ce2a54c0b03bf3443c3d931a367089</td>\n",
       "      <td>delivered</td>\n",
       "      <td>2018-08-08 08:38:49</td>\n",
       "      <td>2018-08-08 08:55:23</td>\n",
       "      <td>2018-08-08 13:50:00</td>\n",
       "      <td>2018-08-17 18:06:29</td>\n",
       "      <td>2018-09-04 00:00:00</td>\n",
       "    </tr>\n",
       "    <tr>\n",
       "      <th>3</th>\n",
       "      <td>949d5b44dbf5de918fe9c16f97b45f8a</td>\n",
       "      <td>f88197465ea7920adcdbec7375364d82</td>\n",
       "      <td>delivered</td>\n",
       "      <td>2017-11-18 19:28:06</td>\n",
       "      <td>2017-11-18 19:45:59</td>\n",
       "      <td>2017-11-22 13:39:59</td>\n",
       "      <td>2017-12-02 00:28:42</td>\n",
       "      <td>2017-12-15 00:00:00</td>\n",
       "    </tr>\n",
       "    <tr>\n",
       "      <th>4</th>\n",
       "      <td>ad21c59c0840e6cb83a9ceb5573f8159</td>\n",
       "      <td>8ab97904e6daea8866dbdbc4fb7aad2c</td>\n",
       "      <td>delivered</td>\n",
       "      <td>2018-02-13 21:18:39</td>\n",
       "      <td>2018-02-13 22:20:29</td>\n",
       "      <td>2018-02-14 19:46:34</td>\n",
       "      <td>2018-02-16 18:17:02</td>\n",
       "      <td>2018-02-26 00:00:00</td>\n",
       "    </tr>\n",
       "  </tbody>\n",
       "</table>\n",
       "</div>"
      ],
      "text/plain": [
       "                           order_id                       customer_id  \\\n",
       "0  e481f51cbdc54678b7cc49136f2d6af7  9ef432eb6251297304e76186b10a928d   \n",
       "1  53cdb2fc8bc7dce0b6741e2150273451  b0830fb4747a6c6d20dea0b8c802d7ef   \n",
       "2  47770eb9100c2d0c44946d9cf07ec65d  41ce2a54c0b03bf3443c3d931a367089   \n",
       "3  949d5b44dbf5de918fe9c16f97b45f8a  f88197465ea7920adcdbec7375364d82   \n",
       "4  ad21c59c0840e6cb83a9ceb5573f8159  8ab97904e6daea8866dbdbc4fb7aad2c   \n",
       "\n",
       "  order_status order_purchase_timestamp    order_approved_at  \\\n",
       "0    delivered      2017-10-02 10:56:33  2017-10-02 11:07:15   \n",
       "1    delivered      2018-07-24 20:41:37  2018-07-26 03:24:27   \n",
       "2    delivered      2018-08-08 08:38:49  2018-08-08 08:55:23   \n",
       "3    delivered      2017-11-18 19:28:06  2017-11-18 19:45:59   \n",
       "4    delivered      2018-02-13 21:18:39  2018-02-13 22:20:29   \n",
       "\n",
       "  order_delivered_carrier_date order_delivered_customer_date  \\\n",
       "0          2017-10-04 19:55:00           2017-10-10 21:25:13   \n",
       "1          2018-07-26 14:31:00           2018-08-07 15:27:45   \n",
       "2          2018-08-08 13:50:00           2018-08-17 18:06:29   \n",
       "3          2017-11-22 13:39:59           2017-12-02 00:28:42   \n",
       "4          2018-02-14 19:46:34           2018-02-16 18:17:02   \n",
       "\n",
       "  order_estimated_delivery_date  \n",
       "0           2017-10-18 00:00:00  \n",
       "1           2018-08-13 00:00:00  \n",
       "2           2018-09-04 00:00:00  \n",
       "3           2017-12-15 00:00:00  \n",
       "4           2018-02-26 00:00:00  "
      ]
     },
     "execution_count": 7,
     "metadata": {},
     "output_type": "execute_result"
    }
   ],
   "source": [
    "# Create the dictionary\n",
    "\n",
    "data = {}\n",
    "\n",
    "for (k, f) in zip(key_names, file_names):\n",
    "    data[k] = pd.read_csv(os.path.join(csv_path, f))\n",
    "\n",
    "data['orders'].head()"
   ]
  },
  {
   "cell_type": "markdown",
   "metadata": {},
   "source": [
    "## Transfer logic to `olist/data.py` 🐍\n",
    "\n",
    "When you call a function that you will name `get_data` from `olist/data.py`, it should return the dictionary `data`:with key/value pairs `\"name of the dataset\":\"dataset.csv\"`\n",
    "\n",
    "```python\n",
    "from olist.data import Olist\n",
    "Olist().get_data()\n",
    "```\n",
    "- Take your time to understand what happens when calling `Olist().get_data()`\n",
    "- Your method `get_data()` needs to be callable from various places (e.g your Terminal, this notebook, another notebook located elsewhere, etc...)\n",
    "- You can't use a relative path this time as the current working directory `os.getcwd()` depends on where you run the code in the first place\n"
   ]
  },
  {
   "cell_type": "code",
   "execution_count": 8,
   "metadata": {},
   "outputs": [
    {
     "data": {
      "text/plain": [
       "dict_keys(['sellers', 'product_category_name_translation', 'orders', 'order_items', 'customers', 'geolocation', 'order_payments', 'order_reviews', 'products'])"
      ]
     },
     "execution_count": 8,
     "metadata": {},
     "output_type": "execute_result"
    }
   ],
   "source": [
    "# Test your code\n",
    "from olist.data import Olist\n",
    "Olist().get_data().keys()"
   ]
  },
  {
   "cell_type": "markdown",
   "metadata": {},
   "source": [
    "# Let's build a business metric: `Weekly Sales` 📈"
   ]
  },
  {
   "cell_type": "markdown",
   "metadata": {},
   "source": [
    "<img src=\"https://wagon-public-datasets.s3.amazonaws.com/04-Decision-Science/01-Project-Setup/olist_schema.png\" width=1000>"
   ]
  },
  {
   "cell_type": "markdown",
   "metadata": {},
   "source": [
    "**Goal**: Plot the weekly sum of `payment_value` for delivered orders"
   ]
  },
  {
   "cell_type": "markdown",
   "metadata": {},
   "source": [
    "1️⃣ **Step 1**: Pseudo code your process in English below before actually coding"
   ]
  },
  {
   "cell_type": "markdown",
   "metadata": {},
   "source": [
    "2️⃣ **Step 2**: Code your logic"
   ]
  },
  {
   "cell_type": "code",
   "execution_count": null,
   "metadata": {
    "tags": [
     "challengify"
    ]
   },
   "outputs": [],
   "source": [
    "import pandas as pd\n",
    "import matplotlib.pyplot as plt\n",
    "\n",
    "# Load your data\n",
    "orders = pd.read_csv('/Users/francoisgirard/code/francoisgirard51/04-Decision-Science/01-Project-Setup/data-context-and-setup/data/csv/olist_orders_dataset.csv')\n",
    "order_items = pd.read_csv('/Users/francoisgirard/code/francoisgirard51/04-Decision-Science/01-Project-Setup/data-context-and-setup/data/csv/olist_order_items_dataset.csv')\n",
    "\n",
    "# Join orders and order_items on order_id\n",
    "merged_data = pd.merge(orders, order_items, on='order_id', how='inner')\n",
    "\n",
    "# Convert the purchase timestamp column to datetime\n",
    "merged_data['order_purchase_timestamp'] = pd.to_datetime(merged_data['order_purchase_timestamp'])\n",
    "\n",
    "# Extract week from the purchase timestamp\n",
    "merged_data['week'] = merged_data['order_purchase_timestamp'].dt.isocalendar().week\n",
    "\n",
    "# Group by week and sum the prices to get weekly sales\n",
    "weekly_sales = merged_data.groupby('week')['price'].sum()\n",
    "\n",
    "weekly_sales.plot(kind='line', figsize=(12, 6))\n",
    "plt.title('Weekly Sales')\n",
    "plt.xlabel('Week')\n",
    "plt.ylabel('Sales Value')\n",
    "plt.grid(True)\n",
    "plt.show()"
   ]
  },
  {
   "cell_type": "markdown",
   "metadata": {},
   "source": [
    "⌛️ Do not forget to handle `datetime` properly."
   ]
  },
  {
   "cell_type": "code",
   "execution_count": 26,
   "metadata": {
    "tags": [
     "challengify"
    ]
   },
   "outputs": [
    {
     "data": {
      "image/png": "[encoded data removed]",
      "text/plain": [
       "<Figure size 1500x700 with 1 Axes>"
      ]
     },
     "metadata": {},
     "output_type": "display_data"
    }
   ],
   "source": [
    "# Merge the orders and order_items dataframes using the 'order_id' column\n",
    "merged_data = orders.merge(order_items, on='order_id')\n",
    "\n",
    "# Convert 'order_purchase_timestamp' to datetime format\n",
    "merged_data['order_purchase_timestamp'] = pd.to_datetime(merged_data['order_purchase_timestamp'])\n",
    "\n",
    "# Handle potential time zone differences (assuming data is in UTC, you can adjust as necessary)\n",
    "merged_data['order_purchase_timestamp'] = merged_data['order_purchase_timestamp'].dt.tz_localize('UTC').dt.tz_convert('America/Sao_Paulo')\n",
    "\n",
    "# Extract year and week for better granularity\n",
    "merged_data['year'] = merged_data['order_purchase_timestamp'].dt.year\n",
    "merged_data['week'] = merged_data['order_purchase_timestamp'].dt.isocalendar().week\n",
    "\n",
    "# Group by 'year' and 'week', then sum the 'price' column to get total sales for each week\n",
    "weekly_sales = merged_data.groupby(['year', 'week']).agg({'price': 'sum'}).reset_index()\n",
    "\n",
    "plt.figure(figsize=(15,7))\n",
    "plt.plot(weekly_sales['price'])\n",
    "plt.title(\"Weekly Sales\")\n",
    "plt.xlabel(\"Time (Year-Week)\")\n",
    "plt.xticks(ticks=range(0, len(weekly_sales), 4), labels=[f\"{row['year']}-W{row['week']}\" for _, row in weekly_sales.iloc[::4, :].iterrows()], rotation=45)\n",
    "plt.ylabel(\"Total Sales\")\n",
    "plt.grid(True)\n",
    "plt.tight_layout()\n",
    "plt.show()"
   ]
  },
  {
   "cell_type": "markdown",
   "metadata": {},
   "source": [
    "👉 Set the `order_purchase_timestamp` as the index"
   ]
  },
  {
   "cell_type": "code",
   "execution_count": 34,
   "metadata": {
    "tags": [
     "challengify"
    ]
   },
   "outputs": [
    {
     "name": "stdout",
     "output_type": "stream",
     "text": [
      "                                                  order_id  \\\n",
      "order_purchase_timestamp                                     \n",
      "2017-10-02 10:56:33       e481f51cbdc54678b7cc49136f2d6af7   \n",
      "2018-07-24 20:41:37       53cdb2fc8bc7dce0b6741e2150273451   \n",
      "2018-08-08 08:38:49       47770eb9100c2d0c44946d9cf07ec65d   \n",
      "2017-11-18 19:28:06       949d5b44dbf5de918fe9c16f97b45f8a   \n",
      "2018-02-13 21:18:39       ad21c59c0840e6cb83a9ceb5573f8159   \n",
      "\n",
      "                                               customer_id order_status  \\\n",
      "order_purchase_timestamp                                                  \n",
      "2017-10-02 10:56:33       9ef432eb6251297304e76186b10a928d    delivered   \n",
      "2018-07-24 20:41:37       b0830fb4747a6c6d20dea0b8c802d7ef    delivered   \n",
      "2018-08-08 08:38:49       41ce2a54c0b03bf3443c3d931a367089    delivered   \n",
      "2017-11-18 19:28:06       f88197465ea7920adcdbec7375364d82    delivered   \n",
      "2018-02-13 21:18:39       8ab97904e6daea8866dbdbc4fb7aad2c    delivered   \n",
      "\n",
      "                            order_approved_at order_delivered_carrier_date  \\\n",
      "order_purchase_timestamp                                                     \n",
      "2017-10-02 10:56:33       2017-10-02 11:07:15          2017-10-04 19:55:00   \n",
      "2018-07-24 20:41:37       2018-07-26 03:24:27          2018-07-26 14:31:00   \n",
      "2018-08-08 08:38:49       2018-08-08 08:55:23          2018-08-08 13:50:00   \n",
      "2017-11-18 19:28:06       2017-11-18 19:45:59          2017-11-22 13:39:59   \n",
      "2018-02-13 21:18:39       2018-02-13 22:20:29          2018-02-14 19:46:34   \n",
      "\n",
      "                         order_delivered_customer_date  \\\n",
      "order_purchase_timestamp                                 \n",
      "2017-10-02 10:56:33                2017-10-10 21:25:13   \n",
      "2018-07-24 20:41:37                2018-08-07 15:27:45   \n",
      "2018-08-08 08:38:49                2018-08-17 18:06:29   \n",
      "2017-11-18 19:28:06                2017-12-02 00:28:42   \n",
      "2018-02-13 21:18:39                2018-02-16 18:17:02   \n",
      "\n",
      "                         order_estimated_delivery_date  \n",
      "order_purchase_timestamp                                \n",
      "2017-10-02 10:56:33                2017-10-18 00:00:00  \n",
      "2018-07-24 20:41:37                2018-08-13 00:00:00  \n",
      "2018-08-08 08:38:49                2018-09-04 00:00:00  \n",
      "2017-11-18 19:28:06                2017-12-15 00:00:00  \n",
      "2018-02-13 21:18:39                2018-02-26 00:00:00  \n"
     ]
    }
   ],
   "source": [
    "import pandas as pd\n",
    "\n",
    "# Read the CSV file, parsing 'order_purchase_timestamp' as a date\n",
    "df = pd.read_csv('/Users/francoisgirard/code/francoisgirard51/04-Decision-Science/01-Project-Setup/data-context-and-setup/data/csv/olist_orders_dataset.csv', parse_dates=['order_purchase_timestamp'])\n",
    "\n",
    "# Set 'order_purchase_timestamp' as the index\n",
    "df.set_index('order_purchase_timestamp', inplace=True)\n",
    "\n",
    "# Display the first few rows to check\n",
    "print(df.head())"
   ]
  },
  {
   "cell_type": "markdown",
   "metadata": {},
   "source": [
    "👉 You can now resample this dataset to compute metrics on a weekly basis."
   ]
  },
  {
   "cell_type": "code",
   "execution_count": 35,
   "metadata": {
    "tags": [
     "challengify"
    ]
   },
   "outputs": [
    {
     "name": "stdout",
     "output_type": "stream",
     "text": [
      "order_purchase_timestamp\n",
      "2016-09-04    1\n",
      "2016-09-11    1\n",
      "2016-09-18    2\n",
      "2016-09-25    0\n",
      "2016-10-02    1\n",
      "Freq: W-SUN, dtype: int64\n"
     ]
    }
   ],
   "source": [
    "# Resampling the dataset to get the count of orders per week\n",
    "weekly_orders = df.resample('W').size()\n",
    "\n",
    "print(weekly_orders.head())"
   ]
  },
  {
   "cell_type": "markdown",
   "metadata": {},
   "source": [
    "📈 Plot the weekly payment values to get a big picture of Olist's revenues."
   ]
  },
  {
   "cell_type": "code",
   "execution_count": 46,
   "metadata": {
    "tags": [
     "challengify"
    ]
   },
   "outputs": [],
   "source": []
  },
  {
   "cell_type": "code",
   "execution_count": null,
   "metadata": {},
   "outputs": [],
   "source": []
  },
  {
   "cell_type": "code",
   "execution_count": null,
   "metadata": {},
   "outputs": [],
   "source": []
  },
  {
   "cell_type": "code",
   "execution_count": null,
   "metadata": {},
   "outputs": [],
   "source": []
  }
 ],
 "metadata": {
  "kernelspec": {
   "display_name": "Python 3 (ipykernel)",
   "language": "python",
   "name": "python3"
  },
  "language_info": {
   "codemirror_mode": {
    "name": "ipython",
    "version": 3
   },
   "file_extension": ".py",
   "mimetype": "text/x-python",
   "name": "python",
   "nbconvert_exporter": "python",
   "pygments_lexer": "ipython3",
   "version": "3.10.6"
  },
  "toc": {
   "base_numbering": 1,
   "nav_menu": {},
   "number_sections": true,
   "sideBar": true,
   "skip_h1_title": false,
   "title_cell": "Table of Contents",
   "title_sidebar": "Contents",
   "toc_cell": false,
   "toc_position": {},
   "toc_section_display": true,
   "toc_window_display": false
  }
 },
 "nbformat": 4,
 "nbformat_minor": 4
}
